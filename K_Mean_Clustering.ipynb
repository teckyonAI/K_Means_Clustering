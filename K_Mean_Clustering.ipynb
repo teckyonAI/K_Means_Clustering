{
 "cells": [
  {
   "cell_type": "markdown",
   "id": "1d20cb1b",
   "metadata": {},
   "source": [
    "<a class=\"anchor\" id=\"0.1\"></a>\n",
    "## Table of Content\n",
    "1. [Python](#1)\n",
    "\n",
    "2.\t[Data Analysis](#2)\n",
    "   - 2.1 [Import Libraries](#2.1)\n",
    "   - 2.2 [Read Dataset](#2.2)\n",
    "   - 2.3 [Handle Null Values](#2.3)\n",
    "   - 2.4 [Visualize the Correlation of whole dataset](#2.4)\n",
    "        - 2.4.1 [Correlations](#2.4.1)\n",
    "        - 2.4.2 [HeatMaps](#2.4.2)\n",
    "   - 2.5 [Outiers](#2.5)\n",
    "3.\t[Data Preprocessing](#3)\n",
    "   - 3.1 [Feature Scaling](#3.1)\n",
    "4.\t[Model Buikding](#4)\n",
    "\n",
    "   - 4.1 [Kmean Clustering on Whole Dataset](#4.1)\n",
    "       - 4.1.1 [Techniques for finding the Optimal Value of k](#4.1.1)\n",
    "       - 4.1.2 [Elbow Method](#4.1.2)\n",
    "       - 4.1.3 [Kmean Algorithm on Dataset](#4.1.3)\n",
    "      \n",
    "      \n",
    "   - 4.2 [Kmean Clustering on two Columns](#4.2)\n",
    "       - 4.2.1 [Techniques for finding the Optimal Value of k](#4.2.1)\n",
    "       - 4.2.2 [Elbow Method](#4.2.2)\n",
    "       - 4.2.3 [Kmean Algorithm on Dataset](#4.2.3)\n",
    "       - 4.2.4 [Cluster Visualization](#4.2.4)\n",
    " \n",
    "    \n",
    "     \n",
    "      \n",
    "      \n",
    "       \n",
    "   "
   ]
  },
  {
   "cell_type": "markdown",
   "id": "36990c23",
   "metadata": {},
   "source": [
    "# **Python** <a class=\"anchor\" id=\"1\"></a>"
   ]
  },
  {
   "cell_type": "markdown",
   "id": "bcd55520",
   "metadata": {},
   "source": [
    "## **Data Analysis** <a class=\"anchor\" id=\"2\"></a>"
   ]
  },
  {
   "cell_type": "markdown",
   "id": "e3f442e9",
   "metadata": {},
   "source": [
    "### **Import Libraries** <a class=\"anchor\" id=\"2.1\"></a>"
   ]
  },
  {
   "cell_type": "code",
   "execution_count": 1,
   "id": "b03fbb36",
   "metadata": {},
   "outputs": [],
   "source": [
    "import pandas as pd\n",
    "import numpy as np\n",
    "import matplotlib.pyplot as plt\n",
    "import seaborn as sns\n",
    "from sklearn.cluster import KMeans\n",
    "from sklearn.preprocessing import StandardScaler"
   ]
  },
  {
   "cell_type": "markdown",
   "id": "53feec48",
   "metadata": {},
   "source": [
    "### **Read Dataset** <a class=\"anchor\" id=\"2.2\"></a>"
   ]
  },
  {
   "cell_type": "code",
   "execution_count": 2,
   "id": "f0c5d0a7",
   "metadata": {},
   "outputs": [],
   "source": [
    "data = pd.read_csv('dataset_FreshCo.csv')"
   ]
  },
  {
   "cell_type": "code",
   "execution_count": 3,
   "id": "3dd8a7a1",
   "metadata": {},
   "outputs": [
    {
     "data": {
      "text/html": [
       "<div>\n",
       "<style scoped>\n",
       "    .dataframe tbody tr th:only-of-type {\n",
       "        vertical-align: middle;\n",
       "    }\n",
       "\n",
       "    .dataframe tbody tr th {\n",
       "        vertical-align: top;\n",
       "    }\n",
       "\n",
       "    .dataframe thead th {\n",
       "        text-align: right;\n",
       "    }\n",
       "</style>\n",
       "<table border=\"1\" class=\"dataframe\">\n",
       "  <thead>\n",
       "    <tr style=\"text-align: right;\">\n",
       "      <th></th>\n",
       "      <th>homeshop</th>\n",
       "      <th>storeshop</th>\n",
       "      <th>employ</th>\n",
       "      <th>income</th>\n",
       "      <th>location</th>\n",
       "      <th>size</th>\n",
       "      <th>age</th>\n",
       "    </tr>\n",
       "  </thead>\n",
       "  <tbody>\n",
       "    <tr>\n",
       "      <th>0</th>\n",
       "      <td>20</td>\n",
       "      <td>310</td>\n",
       "      <td>9</td>\n",
       "      <td>NaN</td>\n",
       "      <td>2</td>\n",
       "      <td>1</td>\n",
       "      <td>72</td>\n",
       "    </tr>\n",
       "    <tr>\n",
       "      <th>1</th>\n",
       "      <td>92</td>\n",
       "      <td>230</td>\n",
       "      <td>9</td>\n",
       "      <td>30550.0</td>\n",
       "      <td>2</td>\n",
       "      <td>2</td>\n",
       "      <td>60</td>\n",
       "    </tr>\n",
       "    <tr>\n",
       "      <th>2</th>\n",
       "      <td>69</td>\n",
       "      <td>240</td>\n",
       "      <td>10</td>\n",
       "      <td>64971.0</td>\n",
       "      <td>2</td>\n",
       "      <td>4</td>\n",
       "      <td>19</td>\n",
       "    </tr>\n",
       "    <tr>\n",
       "      <th>3</th>\n",
       "      <td>88</td>\n",
       "      <td>192</td>\n",
       "      <td>9</td>\n",
       "      <td>37298.0</td>\n",
       "      <td>4</td>\n",
       "      <td>2</td>\n",
       "      <td>63</td>\n",
       "    </tr>\n",
       "    <tr>\n",
       "      <th>4</th>\n",
       "      <td>49</td>\n",
       "      <td>42</td>\n",
       "      <td>1</td>\n",
       "      <td>41135.0</td>\n",
       "      <td>4</td>\n",
       "      <td>6</td>\n",
       "      <td>47</td>\n",
       "    </tr>\n",
       "    <tr>\n",
       "      <th>...</th>\n",
       "      <td>...</td>\n",
       "      <td>...</td>\n",
       "      <td>...</td>\n",
       "      <td>...</td>\n",
       "      <td>...</td>\n",
       "      <td>...</td>\n",
       "      <td>...</td>\n",
       "    </tr>\n",
       "    <tr>\n",
       "      <th>2088</th>\n",
       "      <td>117</td>\n",
       "      <td>98</td>\n",
       "      <td>1</td>\n",
       "      <td>30717.0</td>\n",
       "      <td>2</td>\n",
       "      <td>1</td>\n",
       "      <td>24</td>\n",
       "    </tr>\n",
       "    <tr>\n",
       "      <th>2089</th>\n",
       "      <td>60</td>\n",
       "      <td>162</td>\n",
       "      <td>7</td>\n",
       "      <td>17801.0</td>\n",
       "      <td>2</td>\n",
       "      <td>4</td>\n",
       "      <td>38</td>\n",
       "    </tr>\n",
       "    <tr>\n",
       "      <th>2090</th>\n",
       "      <td>60</td>\n",
       "      <td>62</td>\n",
       "      <td>10</td>\n",
       "      <td>29548.0</td>\n",
       "      <td>2</td>\n",
       "      <td>4</td>\n",
       "      <td>16</td>\n",
       "    </tr>\n",
       "    <tr>\n",
       "      <th>2091</th>\n",
       "      <td>88</td>\n",
       "      <td>248</td>\n",
       "      <td>1</td>\n",
       "      <td>18507.0</td>\n",
       "      <td>2</td>\n",
       "      <td>1</td>\n",
       "      <td>55</td>\n",
       "    </tr>\n",
       "    <tr>\n",
       "      <th>2092</th>\n",
       "      <td>138</td>\n",
       "      <td>176</td>\n",
       "      <td>1</td>\n",
       "      <td>45302.0</td>\n",
       "      <td>2</td>\n",
       "      <td>4</td>\n",
       "      <td>37</td>\n",
       "    </tr>\n",
       "  </tbody>\n",
       "</table>\n",
       "<p>2093 rows × 7 columns</p>\n",
       "</div>"
      ],
      "text/plain": [
       "      homeshop  storeshop  employ   income  location  size  age\n",
       "0           20        310       9      NaN         2     1   72\n",
       "1           92        230       9  30550.0         2     2   60\n",
       "2           69        240      10  64971.0         2     4   19\n",
       "3           88        192       9  37298.0         4     2   63\n",
       "4           49         42       1  41135.0         4     6   47\n",
       "...        ...        ...     ...      ...       ...   ...  ...\n",
       "2088       117         98       1  30717.0         2     1   24\n",
       "2089        60        162       7  17801.0         2     4   38\n",
       "2090        60         62      10  29548.0         2     4   16\n",
       "2091        88        248       1  18507.0         2     1   55\n",
       "2092       138        176       1  45302.0         2     4   37\n",
       "\n",
       "[2093 rows x 7 columns]"
      ]
     },
     "execution_count": 3,
     "metadata": {},
     "output_type": "execute_result"
    }
   ],
   "source": [
    "data"
   ]
  },
  {
   "cell_type": "markdown",
   "id": "563b10d6",
   "metadata": {},
   "source": [
    " ### **Handle Null Values** <a class=\"anchor\" id=\"2.3\"></a>"
   ]
  },
  {
   "cell_type": "markdown",
   "id": "44d9e4c5",
   "metadata": {},
   "source": [
    "#### Check the Percentage of Null values in the Dataset"
   ]
  },
  {
   "cell_type": "code",
   "execution_count": 4,
   "id": "80d94ed5",
   "metadata": {},
   "outputs": [
    {
     "name": "stdout",
     "output_type": "stream",
     "text": [
      "income : 0.3254 %\n"
     ]
    }
   ],
   "source": [
    "for feature in data:\n",
    "    if data[feature].isnull().sum()>1:\n",
    "        print(feature,\":\", np.round(data[feature].isnull().mean(),4),'%')"
   ]
  },
  {
   "cell_type": "markdown",
   "id": "e8f2845a",
   "metadata": {},
   "source": [
    "### 7 Ways to Handle Missing Values in Machine Learning"
   ]
  },
  {
   "cell_type": "markdown",
   "id": "b036292d",
   "metadata": {},
   "source": [
    "1: Deleting Rows with missing values\n",
    "\n",
    "2: Impute missing values for continuous variable\n",
    "\n",
    "3: Impute missing values for categorical variable\n",
    "\n",
    "4: Other Imputation Methods\n",
    "\n",
    "5: Using Algorithms that support missing values\n",
    "\n",
    "6: Prediction of missing values\n",
    "\n",
    "7: Imputation using Deep Learning Library — Datawig"
   ]
  },
  {
   "cell_type": "markdown",
   "id": "35a7383b",
   "metadata": {},
   "source": [
    "### Impute missing values for continous variable"
   ]
  },
  {
   "cell_type": "code",
   "execution_count": 5,
   "id": "69565fc0",
   "metadata": {},
   "outputs": [],
   "source": [
    "data['income'] = data['income'].replace(np.NaN , data['income'].mean())"
   ]
  },
  {
   "cell_type": "code",
   "execution_count": 6,
   "id": "45ba9e1f",
   "metadata": {},
   "outputs": [
    {
     "data": {
      "text/html": [
       "<div>\n",
       "<style scoped>\n",
       "    .dataframe tbody tr th:only-of-type {\n",
       "        vertical-align: middle;\n",
       "    }\n",
       "\n",
       "    .dataframe tbody tr th {\n",
       "        vertical-align: top;\n",
       "    }\n",
       "\n",
       "    .dataframe thead th {\n",
       "        text-align: right;\n",
       "    }\n",
       "</style>\n",
       "<table border=\"1\" class=\"dataframe\">\n",
       "  <thead>\n",
       "    <tr style=\"text-align: right;\">\n",
       "      <th></th>\n",
       "      <th>homeshop</th>\n",
       "      <th>storeshop</th>\n",
       "      <th>employ</th>\n",
       "      <th>income</th>\n",
       "      <th>location</th>\n",
       "      <th>size</th>\n",
       "      <th>age</th>\n",
       "    </tr>\n",
       "  </thead>\n",
       "  <tbody>\n",
       "    <tr>\n",
       "      <th>0</th>\n",
       "      <td>20</td>\n",
       "      <td>310</td>\n",
       "      <td>9</td>\n",
       "      <td>28871.518414</td>\n",
       "      <td>2</td>\n",
       "      <td>1</td>\n",
       "      <td>72</td>\n",
       "    </tr>\n",
       "    <tr>\n",
       "      <th>1</th>\n",
       "      <td>92</td>\n",
       "      <td>230</td>\n",
       "      <td>9</td>\n",
       "      <td>30550.000000</td>\n",
       "      <td>2</td>\n",
       "      <td>2</td>\n",
       "      <td>60</td>\n",
       "    </tr>\n",
       "    <tr>\n",
       "      <th>2</th>\n",
       "      <td>69</td>\n",
       "      <td>240</td>\n",
       "      <td>10</td>\n",
       "      <td>64971.000000</td>\n",
       "      <td>2</td>\n",
       "      <td>4</td>\n",
       "      <td>19</td>\n",
       "    </tr>\n",
       "    <tr>\n",
       "      <th>3</th>\n",
       "      <td>88</td>\n",
       "      <td>192</td>\n",
       "      <td>9</td>\n",
       "      <td>37298.000000</td>\n",
       "      <td>4</td>\n",
       "      <td>2</td>\n",
       "      <td>63</td>\n",
       "    </tr>\n",
       "    <tr>\n",
       "      <th>4</th>\n",
       "      <td>49</td>\n",
       "      <td>42</td>\n",
       "      <td>1</td>\n",
       "      <td>41135.000000</td>\n",
       "      <td>4</td>\n",
       "      <td>6</td>\n",
       "      <td>47</td>\n",
       "    </tr>\n",
       "    <tr>\n",
       "      <th>...</th>\n",
       "      <td>...</td>\n",
       "      <td>...</td>\n",
       "      <td>...</td>\n",
       "      <td>...</td>\n",
       "      <td>...</td>\n",
       "      <td>...</td>\n",
       "      <td>...</td>\n",
       "    </tr>\n",
       "    <tr>\n",
       "      <th>2088</th>\n",
       "      <td>117</td>\n",
       "      <td>98</td>\n",
       "      <td>1</td>\n",
       "      <td>30717.000000</td>\n",
       "      <td>2</td>\n",
       "      <td>1</td>\n",
       "      <td>24</td>\n",
       "    </tr>\n",
       "    <tr>\n",
       "      <th>2089</th>\n",
       "      <td>60</td>\n",
       "      <td>162</td>\n",
       "      <td>7</td>\n",
       "      <td>17801.000000</td>\n",
       "      <td>2</td>\n",
       "      <td>4</td>\n",
       "      <td>38</td>\n",
       "    </tr>\n",
       "    <tr>\n",
       "      <th>2090</th>\n",
       "      <td>60</td>\n",
       "      <td>62</td>\n",
       "      <td>10</td>\n",
       "      <td>29548.000000</td>\n",
       "      <td>2</td>\n",
       "      <td>4</td>\n",
       "      <td>16</td>\n",
       "    </tr>\n",
       "    <tr>\n",
       "      <th>2091</th>\n",
       "      <td>88</td>\n",
       "      <td>248</td>\n",
       "      <td>1</td>\n",
       "      <td>18507.000000</td>\n",
       "      <td>2</td>\n",
       "      <td>1</td>\n",
       "      <td>55</td>\n",
       "    </tr>\n",
       "    <tr>\n",
       "      <th>2092</th>\n",
       "      <td>138</td>\n",
       "      <td>176</td>\n",
       "      <td>1</td>\n",
       "      <td>45302.000000</td>\n",
       "      <td>2</td>\n",
       "      <td>4</td>\n",
       "      <td>37</td>\n",
       "    </tr>\n",
       "  </tbody>\n",
       "</table>\n",
       "<p>2093 rows × 7 columns</p>\n",
       "</div>"
      ],
      "text/plain": [
       "      homeshop  storeshop  employ        income  location  size  age\n",
       "0           20        310       9  28871.518414         2     1   72\n",
       "1           92        230       9  30550.000000         2     2   60\n",
       "2           69        240      10  64971.000000         2     4   19\n",
       "3           88        192       9  37298.000000         4     2   63\n",
       "4           49         42       1  41135.000000         4     6   47\n",
       "...        ...        ...     ...           ...       ...   ...  ...\n",
       "2088       117         98       1  30717.000000         2     1   24\n",
       "2089        60        162       7  17801.000000         2     4   38\n",
       "2090        60         62      10  29548.000000         2     4   16\n",
       "2091        88        248       1  18507.000000         2     1   55\n",
       "2092       138        176       1  45302.000000         2     4   37\n",
       "\n",
       "[2093 rows x 7 columns]"
      ]
     },
     "execution_count": 6,
     "metadata": {},
     "output_type": "execute_result"
    }
   ],
   "source": [
    "data"
   ]
  },
  {
   "cell_type": "markdown",
   "id": "f8e3395a",
   "metadata": {},
   "source": [
    "### **Visualize the Correlation of whole dataset** <a class=\"anchor\" id=\"2.4\"></a>"
   ]
  },
  {
   "cell_type": "markdown",
   "id": "7045e2df",
   "metadata": {},
   "source": [
    "### **Correlation** <a class=\"anchor\" id=\"2.4.1\"></a>"
   ]
  },
  {
   "cell_type": "code",
   "execution_count": 7,
   "id": "d8d198c3",
   "metadata": {
    "scrolled": true
   },
   "outputs": [
    {
     "data": {
      "text/html": [
       "<style type=\"text/css\">\n",
       "#T_a8d6e_row0_col0, #T_a8d6e_row1_col1, #T_a8d6e_row2_col2, #T_a8d6e_row3_col3, #T_a8d6e_row4_col4, #T_a8d6e_row5_col5, #T_a8d6e_row6_col6 {\n",
       "  background-color: #08306b;\n",
       "  color: #f1f1f1;\n",
       "}\n",
       "#T_a8d6e_row0_col1 {\n",
       "  background-color: #e6f0f9;\n",
       "  color: #000000;\n",
       "}\n",
       "#T_a8d6e_row0_col2 {\n",
       "  background-color: #bdd7ec;\n",
       "  color: #000000;\n",
       "}\n",
       "#T_a8d6e_row0_col3 {\n",
       "  background-color: #d5e5f4;\n",
       "  color: #000000;\n",
       "}\n",
       "#T_a8d6e_row0_col4 {\n",
       "  background-color: #f6faff;\n",
       "  color: #000000;\n",
       "}\n",
       "#T_a8d6e_row0_col5 {\n",
       "  background-color: #cde0f1;\n",
       "  color: #000000;\n",
       "}\n",
       "#T_a8d6e_row0_col6 {\n",
       "  background-color: #aacfe5;\n",
       "  color: #000000;\n",
       "}\n",
       "#T_a8d6e_row1_col0 {\n",
       "  background-color: #d9e7f5;\n",
       "  color: #000000;\n",
       "}\n",
       "#T_a8d6e_row1_col2 {\n",
       "  background-color: #bcd7eb;\n",
       "  color: #000000;\n",
       "}\n",
       "#T_a8d6e_row1_col3 {\n",
       "  background-color: #cee0f2;\n",
       "  color: #000000;\n",
       "}\n",
       "#T_a8d6e_row1_col4, #T_a8d6e_row4_col1 {\n",
       "  background-color: #f2f8fd;\n",
       "  color: #000000;\n",
       "}\n",
       "#T_a8d6e_row1_col5, #T_a8d6e_row4_col5 {\n",
       "  background-color: #bfd8ed;\n",
       "  color: #000000;\n",
       "}\n",
       "#T_a8d6e_row1_col6 {\n",
       "  background-color: #a4cce3;\n",
       "  color: #000000;\n",
       "}\n",
       "#T_a8d6e_row2_col0, #T_a8d6e_row6_col0 {\n",
       "  background-color: #d8e7f5;\n",
       "  color: #000000;\n",
       "}\n",
       "#T_a8d6e_row2_col1 {\n",
       "  background-color: #e3eef9;\n",
       "  color: #000000;\n",
       "}\n",
       "#T_a8d6e_row2_col3, #T_a8d6e_row3_col1, #T_a8d6e_row3_col2, #T_a8d6e_row5_col0, #T_a8d6e_row5_col1, #T_a8d6e_row5_col4, #T_a8d6e_row5_col6, #T_a8d6e_row6_col5 {\n",
       "  background-color: #f7fbff;\n",
       "  color: #000000;\n",
       "}\n",
       "#T_a8d6e_row2_col4 {\n",
       "  background-color: #e8f1fa;\n",
       "  color: #000000;\n",
       "}\n",
       "#T_a8d6e_row2_col5 {\n",
       "  background-color: #ddeaf7;\n",
       "  color: #000000;\n",
       "}\n",
       "#T_a8d6e_row2_col6 {\n",
       "  background-color: #3a8ac2;\n",
       "  color: #f1f1f1;\n",
       "}\n",
       "#T_a8d6e_row3_col0 {\n",
       "  background-color: #f0f6fd;\n",
       "  color: #000000;\n",
       "}\n",
       "#T_a8d6e_row3_col4 {\n",
       "  background-color: #ebf3fb;\n",
       "  color: #000000;\n",
       "}\n",
       "#T_a8d6e_row3_col5 {\n",
       "  background-color: #6fb0d7;\n",
       "  color: #f1f1f1;\n",
       "}\n",
       "#T_a8d6e_row3_col6 {\n",
       "  background-color: #d2e3f3;\n",
       "  color: #000000;\n",
       "}\n",
       "#T_a8d6e_row4_col0 {\n",
       "  background-color: #e7f0fa;\n",
       "  color: #000000;\n",
       "}\n",
       "#T_a8d6e_row4_col2 {\n",
       "  background-color: #c1d9ed;\n",
       "  color: #000000;\n",
       "}\n",
       "#T_a8d6e_row4_col3 {\n",
       "  background-color: #c4daee;\n",
       "  color: #000000;\n",
       "}\n",
       "#T_a8d6e_row4_col6 {\n",
       "  background-color: #8cc0dd;\n",
       "  color: #000000;\n",
       "}\n",
       "#T_a8d6e_row5_col2 {\n",
       "  background-color: #ecf4fb;\n",
       "  color: #000000;\n",
       "}\n",
       "#T_a8d6e_row5_col3 {\n",
       "  background-color: #82bbdb;\n",
       "  color: #000000;\n",
       "}\n",
       "#T_a8d6e_row6_col1, #T_a8d6e_row6_col3 {\n",
       "  background-color: #e0ecf8;\n",
       "  color: #000000;\n",
       "}\n",
       "#T_a8d6e_row6_col2 {\n",
       "  background-color: #4292c6;\n",
       "  color: #f1f1f1;\n",
       "}\n",
       "#T_a8d6e_row6_col4 {\n",
       "  background-color: #cfe1f2;\n",
       "  color: #000000;\n",
       "}\n",
       "</style>\n",
       "<table id=\"T_a8d6e_\">\n",
       "  <thead>\n",
       "    <tr>\n",
       "      <th class=\"blank level0\" >&nbsp;</th>\n",
       "      <th class=\"col_heading level0 col0\" >homeshop</th>\n",
       "      <th class=\"col_heading level0 col1\" >storeshop</th>\n",
       "      <th class=\"col_heading level0 col2\" >employ</th>\n",
       "      <th class=\"col_heading level0 col3\" >income</th>\n",
       "      <th class=\"col_heading level0 col4\" >location</th>\n",
       "      <th class=\"col_heading level0 col5\" >size</th>\n",
       "      <th class=\"col_heading level0 col6\" >age</th>\n",
       "    </tr>\n",
       "  </thead>\n",
       "  <tbody>\n",
       "    <tr>\n",
       "      <th id=\"T_a8d6e_level0_row0\" class=\"row_heading level0 row0\" >homeshop</th>\n",
       "      <td id=\"T_a8d6e_row0_col0\" class=\"data row0 col0\" >1.000000</td>\n",
       "      <td id=\"T_a8d6e_row0_col1\" class=\"data row0 col1\" >0.051161</td>\n",
       "      <td id=\"T_a8d6e_row0_col2\" class=\"data row0 col2\" >0.053290</td>\n",
       "      <td id=\"T_a8d6e_row0_col3\" class=\"data row0 col3\" >-0.082635</td>\n",
       "      <td id=\"T_a8d6e_row0_col4\" class=\"data row0 col4\" >-0.030989</td>\n",
       "      <td id=\"T_a8d6e_row0_col5\" class=\"data row0 col5\" >-0.123143</td>\n",
       "      <td id=\"T_a8d6e_row0_col6\" class=\"data row0 col6\" >0.055763</td>\n",
       "    </tr>\n",
       "    <tr>\n",
       "      <th id=\"T_a8d6e_level0_row1\" class=\"row_heading level0 row1\" >storeshop</th>\n",
       "      <td id=\"T_a8d6e_row1_col0\" class=\"data row1 col0\" >0.051161</td>\n",
       "      <td id=\"T_a8d6e_row1_col1\" class=\"data row1 col1\" >1.000000</td>\n",
       "      <td id=\"T_a8d6e_row1_col2\" class=\"data row1 col2\" >0.063439</td>\n",
       "      <td id=\"T_a8d6e_row1_col3\" class=\"data row1 col3\" >-0.036246</td>\n",
       "      <td id=\"T_a8d6e_row1_col4\" class=\"data row1 col4\" >-0.013804</td>\n",
       "      <td id=\"T_a8d6e_row1_col5\" class=\"data row1 col5\" >-0.038325</td>\n",
       "      <td id=\"T_a8d6e_row1_col6\" class=\"data row1 col6\" >0.082515</td>\n",
       "    </tr>\n",
       "    <tr>\n",
       "      <th id=\"T_a8d6e_level0_row2\" class=\"row_heading level0 row2\" >employ</th>\n",
       "      <td id=\"T_a8d6e_row2_col0\" class=\"data row2 col0\" >0.053290</td>\n",
       "      <td id=\"T_a8d6e_row2_col1\" class=\"data row2 col1\" >0.063439</td>\n",
       "      <td id=\"T_a8d6e_row2_col2\" class=\"data row2 col2\" >1.000000</td>\n",
       "      <td id=\"T_a8d6e_row2_col3\" class=\"data row2 col3\" >-0.310122</td>\n",
       "      <td id=\"T_a8d6e_row2_col4\" class=\"data row2 col4\" >0.042092</td>\n",
       "      <td id=\"T_a8d6e_row2_col5\" class=\"data row2 col5\" >-0.238022</td>\n",
       "      <td id=\"T_a8d6e_row2_col6\" class=\"data row2 col6\" >0.505658</td>\n",
       "    </tr>\n",
       "    <tr>\n",
       "      <th id=\"T_a8d6e_level0_row3\" class=\"row_heading level0 row3\" >income</th>\n",
       "      <td id=\"T_a8d6e_row3_col0\" class=\"data row3 col0\" >-0.082635</td>\n",
       "      <td id=\"T_a8d6e_row3_col1\" class=\"data row3 col1\" >-0.036246</td>\n",
       "      <td id=\"T_a8d6e_row3_col2\" class=\"data row3 col2\" >-0.310122</td>\n",
       "      <td id=\"T_a8d6e_row3_col3\" class=\"data row3 col3\" >1.000000</td>\n",
       "      <td id=\"T_a8d6e_row3_col4\" class=\"data row3 col4\" >0.023301</td>\n",
       "      <td id=\"T_a8d6e_row3_col5\" class=\"data row3 col5\" >0.271425</td>\n",
       "      <td id=\"T_a8d6e_row3_col6\" class=\"data row3 col6\" >-0.156660</td>\n",
       "    </tr>\n",
       "    <tr>\n",
       "      <th id=\"T_a8d6e_level0_row4\" class=\"row_heading level0 row4\" >location</th>\n",
       "      <td id=\"T_a8d6e_row4_col0\" class=\"data row4 col0\" >-0.030989</td>\n",
       "      <td id=\"T_a8d6e_row4_col1\" class=\"data row4 col1\" >-0.013804</td>\n",
       "      <td id=\"T_a8d6e_row4_col2\" class=\"data row4 col2\" >0.042092</td>\n",
       "      <td id=\"T_a8d6e_row4_col3\" class=\"data row4 col3\" >0.023301</td>\n",
       "      <td id=\"T_a8d6e_row4_col4\" class=\"data row4 col4\" >1.000000</td>\n",
       "      <td id=\"T_a8d6e_row4_col5\" class=\"data row4 col5\" >-0.038146</td>\n",
       "      <td id=\"T_a8d6e_row4_col6\" class=\"data row4 col6\" >0.174163</td>\n",
       "    </tr>\n",
       "    <tr>\n",
       "      <th id=\"T_a8d6e_level0_row5\" class=\"row_heading level0 row5\" >size</th>\n",
       "      <td id=\"T_a8d6e_row5_col0\" class=\"data row5 col0\" >-0.123143</td>\n",
       "      <td id=\"T_a8d6e_row5_col1\" class=\"data row5 col1\" >-0.038325</td>\n",
       "      <td id=\"T_a8d6e_row5_col2\" class=\"data row5 col2\" >-0.238022</td>\n",
       "      <td id=\"T_a8d6e_row5_col3\" class=\"data row5 col3\" >0.271425</td>\n",
       "      <td id=\"T_a8d6e_row5_col4\" class=\"data row5 col4\" >-0.038146</td>\n",
       "      <td id=\"T_a8d6e_row5_col5\" class=\"data row5 col5\" >1.000000</td>\n",
       "      <td id=\"T_a8d6e_row5_col6\" class=\"data row5 col6\" >-0.426276</td>\n",
       "    </tr>\n",
       "    <tr>\n",
       "      <th id=\"T_a8d6e_level0_row6\" class=\"row_heading level0 row6\" >age</th>\n",
       "      <td id=\"T_a8d6e_row6_col0\" class=\"data row6 col0\" >0.055763</td>\n",
       "      <td id=\"T_a8d6e_row6_col1\" class=\"data row6 col1\" >0.082515</td>\n",
       "      <td id=\"T_a8d6e_row6_col2\" class=\"data row6 col2\" >0.505658</td>\n",
       "      <td id=\"T_a8d6e_row6_col3\" class=\"data row6 col3\" >-0.156660</td>\n",
       "      <td id=\"T_a8d6e_row6_col4\" class=\"data row6 col4\" >0.174163</td>\n",
       "      <td id=\"T_a8d6e_row6_col5\" class=\"data row6 col5\" >-0.426276</td>\n",
       "      <td id=\"T_a8d6e_row6_col6\" class=\"data row6 col6\" >1.000000</td>\n",
       "    </tr>\n",
       "  </tbody>\n",
       "</table>\n"
      ],
      "text/plain": [
       "<pandas.io.formats.style.Styler at 0x1a503fea490>"
      ]
     },
     "execution_count": 7,
     "metadata": {},
     "output_type": "execute_result"
    }
   ],
   "source": [
    "data.corr().style.background_gradient(cmap=\"Blues\")"
   ]
  },
  {
   "cell_type": "markdown",
   "id": "de7640b8",
   "metadata": {},
   "source": [
    "### **HeatMaps** <a class=\"anchor\" id=\"2.4.2\"></a>"
   ]
  },
  {
   "cell_type": "code",
   "execution_count": 32,
   "id": "a0c8ce51",
   "metadata": {},
   "outputs": [
    {
     "data": {
      "image/png": "[encoded data removed]",
      "text/plain": [
       "<Figure size 720x432 with 2 Axes>"
      ]
     },
     "metadata": {},
     "output_type": "display_data"
    }
   ],
   "source": [
    "plt.figure(figsize=(10,6))\n",
    "sns.set_theme(style=\"whitegrid\", color_codes=True)\n",
    "sns.heatmap(data.corr())\n",
    "plt.show()"
   ]
  },
  {
   "cell_type": "markdown",
   "id": "155cd916",
   "metadata": {},
   "source": [
    "### **Outliers** <a class=\"anchor\" id=\"2.5\"></a>"
   ]
  },
  {
   "cell_type": "code",
   "execution_count": 9,
   "id": "707ce325",
   "metadata": {},
   "outputs": [
    {
     "data": {
      "image/png": "[encoded data removed]",
      "text/plain": [
       "<Figure size 1080x432 with 1 Axes>"
      ]
     },
     "metadata": {
      "needs_background": "light"
     },
     "output_type": "display_data"
    }
   ],
   "source": [
    "plt.figure(figsize=(15,6))\n",
    "sns.set_theme(style=\"whitegrid\", color_codes=True)\n",
    "sns.boxplot(data=data,\n",
    "            palette=\"Set1\")\n",
    "plt.show()"
   ]
  },
  {
   "cell_type": "code",
   "execution_count": 10,
   "id": "4c0e02b0",
   "metadata": {
    "scrolled": true
   },
   "outputs": [
    {
     "data": {
      "text/html": [
       "<div>\n",
       "<style scoped>\n",
       "    .dataframe tbody tr th:only-of-type {\n",
       "        vertical-align: middle;\n",
       "    }\n",
       "\n",
       "    .dataframe tbody tr th {\n",
       "        vertical-align: top;\n",
       "    }\n",
       "\n",
       "    .dataframe thead th {\n",
       "        text-align: right;\n",
       "    }\n",
       "</style>\n",
       "<table border=\"1\" class=\"dataframe\">\n",
       "  <thead>\n",
       "    <tr style=\"text-align: right;\">\n",
       "      <th></th>\n",
       "      <th>homeshop</th>\n",
       "      <th>storeshop</th>\n",
       "      <th>employ</th>\n",
       "      <th>income</th>\n",
       "      <th>location</th>\n",
       "      <th>size</th>\n",
       "      <th>age</th>\n",
       "    </tr>\n",
       "  </thead>\n",
       "  <tbody>\n",
       "    <tr>\n",
       "      <th>0</th>\n",
       "      <td>20</td>\n",
       "      <td>310</td>\n",
       "      <td>9</td>\n",
       "      <td>28871.518414</td>\n",
       "      <td>2</td>\n",
       "      <td>1</td>\n",
       "      <td>72</td>\n",
       "    </tr>\n",
       "    <tr>\n",
       "      <th>1</th>\n",
       "      <td>92</td>\n",
       "      <td>230</td>\n",
       "      <td>9</td>\n",
       "      <td>30550.000000</td>\n",
       "      <td>2</td>\n",
       "      <td>2</td>\n",
       "      <td>60</td>\n",
       "    </tr>\n",
       "    <tr>\n",
       "      <th>2</th>\n",
       "      <td>69</td>\n",
       "      <td>240</td>\n",
       "      <td>10</td>\n",
       "      <td>64971.000000</td>\n",
       "      <td>2</td>\n",
       "      <td>4</td>\n",
       "      <td>19</td>\n",
       "    </tr>\n",
       "    <tr>\n",
       "      <th>3</th>\n",
       "      <td>88</td>\n",
       "      <td>192</td>\n",
       "      <td>9</td>\n",
       "      <td>37298.000000</td>\n",
       "      <td>4</td>\n",
       "      <td>2</td>\n",
       "      <td>63</td>\n",
       "    </tr>\n",
       "    <tr>\n",
       "      <th>4</th>\n",
       "      <td>49</td>\n",
       "      <td>42</td>\n",
       "      <td>1</td>\n",
       "      <td>41135.000000</td>\n",
       "      <td>4</td>\n",
       "      <td>6</td>\n",
       "      <td>47</td>\n",
       "    </tr>\n",
       "  </tbody>\n",
       "</table>\n",
       "</div>"
      ],
      "text/plain": [
       "   homeshop  storeshop  employ        income  location  size  age\n",
       "0        20        310       9  28871.518414         2     1   72\n",
       "1        92        230       9  30550.000000         2     2   60\n",
       "2        69        240      10  64971.000000         2     4   19\n",
       "3        88        192       9  37298.000000         4     2   63\n",
       "4        49         42       1  41135.000000         4     6   47"
      ]
     },
     "execution_count": 10,
     "metadata": {},
     "output_type": "execute_result"
    }
   ],
   "source": [
    "data.head()"
   ]
  },
  {
   "cell_type": "markdown",
   "id": "3b89af19",
   "metadata": {},
   "source": [
    "## **Data Preprocessing** <a class=\"anchor\" id=\"3\"></a>"
   ]
  },
  {
   "cell_type": "markdown",
   "id": "e90c62f3",
   "metadata": {},
   "source": [
    "### **Feature Scalling** <a class=\"anchor\" id=\"3.1\"></a>"
   ]
  },
  {
   "cell_type": "code",
   "execution_count": 11,
   "id": "0c28c6af",
   "metadata": {},
   "outputs": [],
   "source": [
    "sc =StandardScaler()\n",
    "feature = [i for i in data]\n",
    "data[feature] = sc.fit_transform(data[feature])"
   ]
  },
  {
   "cell_type": "code",
   "execution_count": 12,
   "id": "900d0683",
   "metadata": {},
   "outputs": [],
   "source": [
    "data = pd.DataFrame(data)"
   ]
  },
  {
   "cell_type": "code",
   "execution_count": 13,
   "id": "f5b9205d",
   "metadata": {},
   "outputs": [
    {
     "data": {
      "text/html": [
       "<div>\n",
       "<style scoped>\n",
       "    .dataframe tbody tr th:only-of-type {\n",
       "        vertical-align: middle;\n",
       "    }\n",
       "\n",
       "    .dataframe tbody tr th {\n",
       "        vertical-align: top;\n",
       "    }\n",
       "\n",
       "    .dataframe thead th {\n",
       "        text-align: right;\n",
       "    }\n",
       "</style>\n",
       "<table border=\"1\" class=\"dataframe\">\n",
       "  <thead>\n",
       "    <tr style=\"text-align: right;\">\n",
       "      <th></th>\n",
       "      <th>homeshop</th>\n",
       "      <th>storeshop</th>\n",
       "      <th>employ</th>\n",
       "      <th>income</th>\n",
       "      <th>location</th>\n",
       "      <th>size</th>\n",
       "      <th>age</th>\n",
       "    </tr>\n",
       "  </thead>\n",
       "  <tbody>\n",
       "    <tr>\n",
       "      <th>0</th>\n",
       "      <td>-1.282203</td>\n",
       "      <td>1.031374</td>\n",
       "      <td>1.180841</td>\n",
       "      <td>0.000000</td>\n",
       "      <td>-0.236382</td>\n",
       "      <td>-1.040900</td>\n",
       "      <td>1.177624</td>\n",
       "    </tr>\n",
       "    <tr>\n",
       "      <th>1</th>\n",
       "      <td>-0.100065</td>\n",
       "      <td>0.332426</td>\n",
       "      <td>1.180841</td>\n",
       "      <td>0.088277</td>\n",
       "      <td>-0.236382</td>\n",
       "      <td>-0.255818</td>\n",
       "      <td>0.526043</td>\n",
       "    </tr>\n",
       "    <tr>\n",
       "      <th>2</th>\n",
       "      <td>-0.477692</td>\n",
       "      <td>0.419795</td>\n",
       "      <td>1.455057</td>\n",
       "      <td>1.898602</td>\n",
       "      <td>-0.236382</td>\n",
       "      <td>1.314348</td>\n",
       "      <td>-1.700190</td>\n",
       "    </tr>\n",
       "    <tr>\n",
       "      <th>3</th>\n",
       "      <td>-0.165739</td>\n",
       "      <td>0.000426</td>\n",
       "      <td>1.180841</td>\n",
       "      <td>0.443179</td>\n",
       "      <td>2.437929</td>\n",
       "      <td>-0.255818</td>\n",
       "      <td>0.688938</td>\n",
       "    </tr>\n",
       "    <tr>\n",
       "      <th>4</th>\n",
       "      <td>-0.806064</td>\n",
       "      <td>-1.310102</td>\n",
       "      <td>-1.012880</td>\n",
       "      <td>0.644981</td>\n",
       "      <td>2.437929</td>\n",
       "      <td>2.884513</td>\n",
       "      <td>-0.179836</td>\n",
       "    </tr>\n",
       "    <tr>\n",
       "      <th>...</th>\n",
       "      <td>...</td>\n",
       "      <td>...</td>\n",
       "      <td>...</td>\n",
       "      <td>...</td>\n",
       "      <td>...</td>\n",
       "      <td>...</td>\n",
       "      <td>...</td>\n",
       "    </tr>\n",
       "    <tr>\n",
       "      <th>2088</th>\n",
       "      <td>0.310400</td>\n",
       "      <td>-0.820838</td>\n",
       "      <td>-1.012880</td>\n",
       "      <td>0.097061</td>\n",
       "      <td>-0.236382</td>\n",
       "      <td>-1.040900</td>\n",
       "      <td>-1.428699</td>\n",
       "    </tr>\n",
       "    <tr>\n",
       "      <th>2089</th>\n",
       "      <td>-0.625460</td>\n",
       "      <td>-0.261680</td>\n",
       "      <td>0.632411</td>\n",
       "      <td>-0.582238</td>\n",
       "      <td>-0.236382</td>\n",
       "      <td>1.314348</td>\n",
       "      <td>-0.668521</td>\n",
       "    </tr>\n",
       "    <tr>\n",
       "      <th>2090</th>\n",
       "      <td>-0.625460</td>\n",
       "      <td>-1.135365</td>\n",
       "      <td>1.455057</td>\n",
       "      <td>0.035579</td>\n",
       "      <td>-0.236382</td>\n",
       "      <td>1.314348</td>\n",
       "      <td>-1.863086</td>\n",
       "    </tr>\n",
       "    <tr>\n",
       "      <th>2091</th>\n",
       "      <td>-0.165739</td>\n",
       "      <td>0.489689</td>\n",
       "      <td>-1.012880</td>\n",
       "      <td>-0.545107</td>\n",
       "      <td>-0.236382</td>\n",
       "      <td>-1.040900</td>\n",
       "      <td>0.254551</td>\n",
       "    </tr>\n",
       "    <tr>\n",
       "      <th>2092</th>\n",
       "      <td>0.655191</td>\n",
       "      <td>-0.139364</td>\n",
       "      <td>-1.012880</td>\n",
       "      <td>0.864138</td>\n",
       "      <td>-0.236382</td>\n",
       "      <td>1.314348</td>\n",
       "      <td>-0.722820</td>\n",
       "    </tr>\n",
       "  </tbody>\n",
       "</table>\n",
       "<p>2093 rows × 7 columns</p>\n",
       "</div>"
      ],
      "text/plain": [
       "      homeshop  storeshop    employ    income  location      size       age\n",
       "0    -1.282203   1.031374  1.180841  0.000000 -0.236382 -1.040900  1.177624\n",
       "1    -0.100065   0.332426  1.180841  0.088277 -0.236382 -0.255818  0.526043\n",
       "2    -0.477692   0.419795  1.455057  1.898602 -0.236382  1.314348 -1.700190\n",
       "3    -0.165739   0.000426  1.180841  0.443179  2.437929 -0.255818  0.688938\n",
       "4    -0.806064  -1.310102 -1.012880  0.644981  2.437929  2.884513 -0.179836\n",
       "...        ...        ...       ...       ...       ...       ...       ...\n",
       "2088  0.310400  -0.820838 -1.012880  0.097061 -0.236382 -1.040900 -1.428699\n",
       "2089 -0.625460  -0.261680  0.632411 -0.582238 -0.236382  1.314348 -0.668521\n",
       "2090 -0.625460  -1.135365  1.455057  0.035579 -0.236382  1.314348 -1.863086\n",
       "2091 -0.165739   0.489689 -1.012880 -0.545107 -0.236382 -1.040900  0.254551\n",
       "2092  0.655191  -0.139364 -1.012880  0.864138 -0.236382  1.314348 -0.722820\n",
       "\n",
       "[2093 rows x 7 columns]"
      ]
     },
     "execution_count": 13,
     "metadata": {},
     "output_type": "execute_result"
    }
   ],
   "source": [
    "data"
   ]
  },
  {
   "cell_type": "markdown",
   "id": "c60c3420",
   "metadata": {},
   "source": [
    "## **Model Building** <a class=\"anchor\" id=\"4\"></a>"
   ]
  },
  {
   "cell_type": "markdown",
   "id": "efcd5c3b",
   "metadata": {},
   "source": [
    "### **K_mean Clusterung on Whole dataset** <a class=\"anchor\" id=\"4.1\"></a>"
   ]
  },
  {
   "cell_type": "markdown",
   "id": "cf8e369b",
   "metadata": {},
   "source": [
    "#### **Techniques for finding the Optimal Value of k** <a class=\"anchor\" id=\"4.1.1\"></a>"
   ]
  },
  {
   "cell_type": "markdown",
   "id": "758c27f9",
   "metadata": {},
   "source": [
    "There are two type of Techniques:\n",
    "\n",
    "    1: Elbow Method \n",
    "    2: Silhouette Method"
   ]
  },
  {
   "cell_type": "markdown",
   "id": "eb8d35dc",
   "metadata": {},
   "source": [
    "#### **Elbow Method** <a class=\"anchor\" id=\"4.1.2\"></a>"
   ]
  },
  {
   "cell_type": "code",
   "execution_count": 14,
   "id": "afab9762",
   "metadata": {},
   "outputs": [],
   "source": [
    "# Elbow Method\n",
    "k_value = range(1,10)\n",
    "sse=[]\n",
    "for k in k_value:\n",
    "    k_mean = KMeans(n_clusters=k)\n",
    "    k_mean.fit_predict(data)\n",
    "    sse.append(k_mean.inertia_)\n",
    "    \n"
   ]
  },
  {
   "cell_type": "code",
   "execution_count": 15,
   "id": "a5035034",
   "metadata": {},
   "outputs": [
    {
     "name": "stderr",
     "output_type": "stream",
     "text": [
      "c:\\users\\zain\\appdata\\local\\programs\\python\\python38\\lib\\site-packages\\seaborn\\_decorators.py:36: FutureWarning: Pass the following variables as keyword args: x, y. From version 0.12, the only valid positional argument will be `data`, and passing other arguments without an explicit keyword will result in an error or misinterpretation.\n",
      "  warnings.warn(\n"
     ]
    },
    {
     "data": {
      "image/png": "[encoded data removed]",
      "text/plain": [
       "<Figure size 720x360 with 1 Axes>"
      ]
     },
     "metadata": {},
     "output_type": "display_data"
    }
   ],
   "source": [
    "plt.figure(figsize=(10,5))\n",
    "sns.lineplot(k_value, sse,marker='o',color='red')\n",
    "plt.title('The Elbow Method')\n",
    "plt.xlabel('Number of clusters')\n",
    "plt.ylabel('SSE')\n",
    "plt.show()"
   ]
  },
  {
   "cell_type": "markdown",
   "id": "e460d57a",
   "metadata": {},
   "source": [
    "#### **Kmean Algorithm on Dataset** <a class=\"anchor\" id=\"4.1.3\"></a>"
   ]
  },
  {
   "cell_type": "code",
   "execution_count": 16,
   "id": "403854c1",
   "metadata": {},
   "outputs": [
    {
     "data": {
      "text/plain": [
       "KMeans(n_clusters=5)"
      ]
     },
     "execution_count": 16,
     "metadata": {},
     "output_type": "execute_result"
    }
   ],
   "source": [
    "k_mean = KMeans(n_clusters=5)\n",
    "k_mean"
   ]
  },
  {
   "cell_type": "code",
   "execution_count": 17,
   "id": "99e38609",
   "metadata": {},
   "outputs": [
    {
     "data": {
      "text/plain": [
       "array([4, 4, 2, ..., 0, 1, 0])"
      ]
     },
     "execution_count": 17,
     "metadata": {},
     "output_type": "execute_result"
    }
   ],
   "source": [
    "y_predicted = k_mean.fit_predict(data)\n",
    "y_predicted"
   ]
  },
  {
   "cell_type": "code",
   "execution_count": 18,
   "id": "fa8b63a9",
   "metadata": {},
   "outputs": [],
   "source": [
    "data[\"Cluster\"] = y_predicted"
   ]
  },
  {
   "cell_type": "code",
   "execution_count": 19,
   "id": "cabda9ce",
   "metadata": {},
   "outputs": [
    {
     "data": {
      "text/html": [
       "<div>\n",
       "<style scoped>\n",
       "    .dataframe tbody tr th:only-of-type {\n",
       "        vertical-align: middle;\n",
       "    }\n",
       "\n",
       "    .dataframe tbody tr th {\n",
       "        vertical-align: top;\n",
       "    }\n",
       "\n",
       "    .dataframe thead th {\n",
       "        text-align: right;\n",
       "    }\n",
       "</style>\n",
       "<table border=\"1\" class=\"dataframe\">\n",
       "  <thead>\n",
       "    <tr style=\"text-align: right;\">\n",
       "      <th></th>\n",
       "      <th>homeshop</th>\n",
       "      <th>storeshop</th>\n",
       "      <th>employ</th>\n",
       "      <th>income</th>\n",
       "      <th>location</th>\n",
       "      <th>size</th>\n",
       "      <th>age</th>\n",
       "      <th>Cluster</th>\n",
       "    </tr>\n",
       "  </thead>\n",
       "  <tbody>\n",
       "    <tr>\n",
       "      <th>0</th>\n",
       "      <td>-1.282203</td>\n",
       "      <td>1.031374</td>\n",
       "      <td>1.180841</td>\n",
       "      <td>0.000000</td>\n",
       "      <td>-0.236382</td>\n",
       "      <td>-1.040900</td>\n",
       "      <td>1.177624</td>\n",
       "      <td>4</td>\n",
       "    </tr>\n",
       "    <tr>\n",
       "      <th>1</th>\n",
       "      <td>-0.100065</td>\n",
       "      <td>0.332426</td>\n",
       "      <td>1.180841</td>\n",
       "      <td>0.088277</td>\n",
       "      <td>-0.236382</td>\n",
       "      <td>-0.255818</td>\n",
       "      <td>0.526043</td>\n",
       "      <td>4</td>\n",
       "    </tr>\n",
       "    <tr>\n",
       "      <th>2</th>\n",
       "      <td>-0.477692</td>\n",
       "      <td>0.419795</td>\n",
       "      <td>1.455057</td>\n",
       "      <td>1.898602</td>\n",
       "      <td>-0.236382</td>\n",
       "      <td>1.314348</td>\n",
       "      <td>-1.700190</td>\n",
       "      <td>2</td>\n",
       "    </tr>\n",
       "    <tr>\n",
       "      <th>3</th>\n",
       "      <td>-0.165739</td>\n",
       "      <td>0.000426</td>\n",
       "      <td>1.180841</td>\n",
       "      <td>0.443179</td>\n",
       "      <td>2.437929</td>\n",
       "      <td>-0.255818</td>\n",
       "      <td>0.688938</td>\n",
       "      <td>3</td>\n",
       "    </tr>\n",
       "    <tr>\n",
       "      <th>4</th>\n",
       "      <td>-0.806064</td>\n",
       "      <td>-1.310102</td>\n",
       "      <td>-1.012880</td>\n",
       "      <td>0.644981</td>\n",
       "      <td>2.437929</td>\n",
       "      <td>2.884513</td>\n",
       "      <td>-0.179836</td>\n",
       "      <td>3</td>\n",
       "    </tr>\n",
       "    <tr>\n",
       "      <th>...</th>\n",
       "      <td>...</td>\n",
       "      <td>...</td>\n",
       "      <td>...</td>\n",
       "      <td>...</td>\n",
       "      <td>...</td>\n",
       "      <td>...</td>\n",
       "      <td>...</td>\n",
       "      <td>...</td>\n",
       "    </tr>\n",
       "    <tr>\n",
       "      <th>2088</th>\n",
       "      <td>0.310400</td>\n",
       "      <td>-0.820838</td>\n",
       "      <td>-1.012880</td>\n",
       "      <td>0.097061</td>\n",
       "      <td>-0.236382</td>\n",
       "      <td>-1.040900</td>\n",
       "      <td>-1.428699</td>\n",
       "      <td>1</td>\n",
       "    </tr>\n",
       "    <tr>\n",
       "      <th>2089</th>\n",
       "      <td>-0.625460</td>\n",
       "      <td>-0.261680</td>\n",
       "      <td>0.632411</td>\n",
       "      <td>-0.582238</td>\n",
       "      <td>-0.236382</td>\n",
       "      <td>1.314348</td>\n",
       "      <td>-0.668521</td>\n",
       "      <td>0</td>\n",
       "    </tr>\n",
       "    <tr>\n",
       "      <th>2090</th>\n",
       "      <td>-0.625460</td>\n",
       "      <td>-1.135365</td>\n",
       "      <td>1.455057</td>\n",
       "      <td>0.035579</td>\n",
       "      <td>-0.236382</td>\n",
       "      <td>1.314348</td>\n",
       "      <td>-1.863086</td>\n",
       "      <td>0</td>\n",
       "    </tr>\n",
       "    <tr>\n",
       "      <th>2091</th>\n",
       "      <td>-0.165739</td>\n",
       "      <td>0.489689</td>\n",
       "      <td>-1.012880</td>\n",
       "      <td>-0.545107</td>\n",
       "      <td>-0.236382</td>\n",
       "      <td>-1.040900</td>\n",
       "      <td>0.254551</td>\n",
       "      <td>1</td>\n",
       "    </tr>\n",
       "    <tr>\n",
       "      <th>2092</th>\n",
       "      <td>0.655191</td>\n",
       "      <td>-0.139364</td>\n",
       "      <td>-1.012880</td>\n",
       "      <td>0.864138</td>\n",
       "      <td>-0.236382</td>\n",
       "      <td>1.314348</td>\n",
       "      <td>-0.722820</td>\n",
       "      <td>0</td>\n",
       "    </tr>\n",
       "  </tbody>\n",
       "</table>\n",
       "<p>2093 rows × 8 columns</p>\n",
       "</div>"
      ],
      "text/plain": [
       "      homeshop  storeshop    employ    income  location      size       age  \\\n",
       "0    -1.282203   1.031374  1.180841  0.000000 -0.236382 -1.040900  1.177624   \n",
       "1    -0.100065   0.332426  1.180841  0.088277 -0.236382 -0.255818  0.526043   \n",
       "2    -0.477692   0.419795  1.455057  1.898602 -0.236382  1.314348 -1.700190   \n",
       "3    -0.165739   0.000426  1.180841  0.443179  2.437929 -0.255818  0.688938   \n",
       "4    -0.806064  -1.310102 -1.012880  0.644981  2.437929  2.884513 -0.179836   \n",
       "...        ...        ...       ...       ...       ...       ...       ...   \n",
       "2088  0.310400  -0.820838 -1.012880  0.097061 -0.236382 -1.040900 -1.428699   \n",
       "2089 -0.625460  -0.261680  0.632411 -0.582238 -0.236382  1.314348 -0.668521   \n",
       "2090 -0.625460  -1.135365  1.455057  0.035579 -0.236382  1.314348 -1.863086   \n",
       "2091 -0.165739   0.489689 -1.012880 -0.545107 -0.236382 -1.040900  0.254551   \n",
       "2092  0.655191  -0.139364 -1.012880  0.864138 -0.236382  1.314348 -0.722820   \n",
       "\n",
       "      Cluster  \n",
       "0           4  \n",
       "1           4  \n",
       "2           2  \n",
       "3           3  \n",
       "4           3  \n",
       "...       ...  \n",
       "2088        1  \n",
       "2089        0  \n",
       "2090        0  \n",
       "2091        1  \n",
       "2092        0  \n",
       "\n",
       "[2093 rows x 8 columns]"
      ]
     },
     "execution_count": 19,
     "metadata": {},
     "output_type": "execute_result"
    }
   ],
   "source": [
    "data"
   ]
  },
  {
   "cell_type": "markdown",
   "id": "9b3003c7",
   "metadata": {},
   "source": [
    "### **K_mean Clusterung on Two Feature** <a class=\"anchor\" id=\"4.2\"></a>"
   ]
  },
  {
   "cell_type": "markdown",
   "id": "6e3bbcdf",
   "metadata": {},
   "source": [
    "#### **Techniques for finding the Optimal Value of k** <a class=\"anchor\" id=\"4.2.1\"></a>"
   ]
  },
  {
   "cell_type": "markdown",
   "id": "77ef94f1",
   "metadata": {},
   "source": [
    "There are two type of Techniques:\n",
    "\n",
    "    1: Elbow Method \n",
    "    2: Silhouette Method"
   ]
  },
  {
   "cell_type": "markdown",
   "id": "56ab45d2",
   "metadata": {},
   "source": [
    "#### **Elbow Method** <a class=\"anchor\" id=\"4.2.2\"></a>"
   ]
  },
  {
   "cell_type": "code",
   "execution_count": 20,
   "id": "8d02d48b",
   "metadata": {},
   "outputs": [],
   "source": [
    "data1=data[[\"income\",\"age\"]]"
   ]
  },
  {
   "cell_type": "code",
   "execution_count": 21,
   "id": "19fa1456",
   "metadata": {},
   "outputs": [],
   "source": [
    "# Elbow Method\n",
    "k_value = range(1,10)\n",
    "sse=[]\n",
    "for k in k_value:\n",
    "    k_mean = KMeans(n_clusters=k)\n",
    "    k_mean.fit_predict(data1)\n",
    "    sse.append(k_mean.inertia_)\n",
    "    \n"
   ]
  },
  {
   "cell_type": "code",
   "execution_count": 28,
   "id": "b0905d51",
   "metadata": {},
   "outputs": [
    {
     "name": "stderr",
     "output_type": "stream",
     "text": [
      "c:\\users\\zain\\appdata\\local\\programs\\python\\python38\\lib\\site-packages\\seaborn\\_decorators.py:36: FutureWarning: Pass the following variables as keyword args: x, y. From version 0.12, the only valid positional argument will be `data`, and passing other arguments without an explicit keyword will result in an error or misinterpretation.\n",
      "  warnings.warn(\n"
     ]
    },
    {
     "data": {
      "image/png": "[encoded data removed]",
      "text/plain": [
       "<Figure size 720x360 with 1 Axes>"
      ]
     },
     "metadata": {},
     "output_type": "display_data"
    }
   ],
   "source": [
    "plt.figure(figsize=(10,5))\n",
    "sns.lineplot(k_value, sse,marker='o',color='blue')\n",
    "plt.title('The Elbow Method')\n",
    "plt.xlabel('Number of clusters')\n",
    "plt.ylabel('SSE')\n",
    "plt.show()"
   ]
  },
  {
   "cell_type": "markdown",
   "id": "bd85a4bc",
   "metadata": {},
   "source": [
    "#### **Kmean Algorithm on Columns** <a class=\"anchor\" id=\"4.2.3\"></a>"
   ]
  },
  {
   "cell_type": "code",
   "execution_count": 23,
   "id": "fc641fac",
   "metadata": {},
   "outputs": [
    {
     "data": {
      "text/plain": [
       "KMeans(n_clusters=3)"
      ]
     },
     "execution_count": 23,
     "metadata": {},
     "output_type": "execute_result"
    }
   ],
   "source": [
    "k_mean = KMeans(n_clusters=3)\n",
    "k_mean"
   ]
  },
  {
   "cell_type": "code",
   "execution_count": 24,
   "id": "0558f5cc",
   "metadata": {},
   "outputs": [
    {
     "data": {
      "text/plain": [
       "array([0, 0, 2, ..., 1, 0, 2])"
      ]
     },
     "execution_count": 24,
     "metadata": {},
     "output_type": "execute_result"
    }
   ],
   "source": [
    "y_predicted = k_mean.fit_predict(data1)\n",
    "y_predicted"
   ]
  },
  {
   "cell_type": "code",
   "execution_count": 25,
   "id": "c5502090",
   "metadata": {},
   "outputs": [],
   "source": [
    "data[\"Cluster\"] = y_predicted"
   ]
  },
  {
   "cell_type": "raw",
   "id": "f2a56c08",
   "metadata": {},
   "source": [
    "data"
   ]
  },
  {
   "cell_type": "markdown",
   "id": "5d1767bb",
   "metadata": {},
   "source": [
    "#### **Cluster Visualization** <a class=\"anchor\" id=\"4.2.4\"></a>"
   ]
  },
  {
   "cell_type": "code",
   "execution_count": 33,
   "id": "0ac90363",
   "metadata": {},
   "outputs": [
    {
     "data": {
      "text/plain": [
       "Text(0.5, 1.0, 'Clustering')"
      ]
     },
     "execution_count": 33,
     "metadata": {},
     "output_type": "execute_result"
    },
    {
     "data": {
      "image/png": "[encoded data removed]",
      "text/plain": [
       "<Figure size 720x432 with 1 Axes>"
      ]
     },
     "metadata": {},
     "output_type": "display_data"
    }
   ],
   "source": [
    "plt.figure(figsize=(10,6))\n",
    "sns.set_theme(style=\"whitegrid\", color_codes=True)\n",
    "sns.scatterplot(x='age', \n",
    "                y='income', \n",
    "                hue='Cluster', \n",
    "                data=data,\n",
    "               palette=['green','Blue','brown'])\n",
    "plt.title(\"Clustering\")"
   ]
  },
  {
   "cell_type": "code",
   "execution_count": null,
   "id": "f26cd739",
   "metadata": {},
   "outputs": [],
   "source": []
  },
  {
   "cell_type": "code",
   "execution_count": null,
   "id": "bf3f46c8",
   "metadata": {},
   "outputs": [],
   "source": []
  }
 ],
 "metadata": {
  "kernelspec": {
   "display_name": "Python 3 (ipykernel)",
   "language": "python",
   "name": "python3"
  },
  "language_info": {
   "codemirror_mode": {
    "name": "ipython",
    "version": 3
   },
   "file_extension": ".py",
   "mimetype": "text/x-python",
   "name": "python",
   "nbconvert_exporter": "python",
   "pygments_lexer": "ipython3",
   "version": "3.10.12"
  }
 },
 "nbformat": 4,
 "nbformat_minor": 5
}
